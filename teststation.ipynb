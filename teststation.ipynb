{
 "cells": [
  {
   "cell_type": "code",
   "execution_count": 8,
   "metadata": {},
   "outputs": [
    {
     "name": "stdout",
     "output_type": "stream",
     "text": [
      "Portfolio variation: 0.068585\n",
      "Cumulative wallet value: 1\n",
      "Portfolio allocation: [1. 0. 0. 0. 0. 0. 0. 0. 0. 0. 0. 0. 0. 0. 0. 0. 0. 0. 0. 0. 0. 0. 0. 0.\n",
      " 0. 0. 0. 0. 0. 0. 0. 0. 0. 0. 0. 0. 0. 0. 0. 0. 0. 0. 0. 0. 0. 0. 0. 0.\n",
      " 0. 0. 0. 0. 0. 0. 0. 0. 0. 0. 0. 0. 0. 0. 0.]\n",
      "------------------------------\n",
      "Reward: 0.06857112857233383\n",
      "Portfolio variation: 0.068619\n",
      "Cumulative wallet value: 1.0685711285723338\n",
      "Portfolio allocation: [1. 0. 0. 0. 0. 0. 0. 0. 0. 0. 0. 0. 0. 0. 0. 0. 0. 0. 0. 0. 0. 0. 0. 0.\n",
      " 0. 0. 0. 0. 0. 0. 0. 0. 0. 0. 0. 0. 0. 0. 0. 0. 0. 0. 0. 0. 0. 0. 0. 0.\n",
      " 0. 0. 0. 0. 0. 0. 0. 0. 0. 0. 0. 0. 0. 0. 0.]\n"
     ]
    }
   ],
   "source": [
    "import numpy as np\n",
    "import pandas as pd\n",
    "\n",
    "class PortfolioEnv:\n",
    "    def __init__(self, stock_data_csv, ipca_csv, window_size):\n",
    "        self.stock_data = pd.read_csv(stock_data_csv, parse_dates=['Date'])\n",
    "        self.ipca_data = pd.read_csv(ipca_csv, parse_dates=['Date'])\n",
    "        \n",
    "        self.stock_data.set_index('Date', inplace=True)\n",
    "        self.ipca_data.set_index('Date', inplace=True)\n",
    "        \n",
    "        self.stock_data.fillna(0, inplace=True)\n",
    "        self.ipca_data.fillna(0, inplace=True)\n",
    "\n",
    "        self.window_size = window_size\n",
    "        self.cumulative_wallet_value = 1  # Starts with 1, representing 100% of initial investment\n",
    "\n",
    "        self.reset()\n",
    "\n",
    "    def reset(self):\n",
    "        self.current_step = self.window_size\n",
    "        self.portfolio_allocation = np.zeros(self.stock_data.shape[1])\n",
    "        self.portfolio_allocation[0] = 1  # All initial investment in the first asset\n",
    "        self.cumulative_wallet_value = 1\n",
    "\n",
    "        self.initial_prices = self.stock_data.iloc[self.current_step].values\n",
    "        self.portfolio_value = 1\n",
    "\n",
    "        return self._get_state()\n",
    "\n",
    "    def _get_state(self):\n",
    "        stock_window = self.stock_data.iloc[self.current_step - self.window_size:self.current_step].values\n",
    "        inflation_window = self.ipca_data.iloc[self.current_step - self.window_size:self.current_step].values\n",
    "        state = np.concatenate((stock_window, inflation_window), axis=1)\n",
    "        return state\n",
    "\n",
    "    def step(self, action):\n",
    "        assert np.isclose(np.sum(action), 1), \"Action must sum to 1\"\n",
    "        \n",
    "        current_prices = self.stock_data.iloc[self.current_step].values\n",
    "        next_changes = self.stock_data.iloc[self.current_step + 1].values\n",
    "\n",
    "        portfolio_var_t = np.dot(self.portfolio_allocation, current_prices)\n",
    "        portfolio_var_t1 = np.dot(action, next_changes)\n",
    "\n",
    "        inflation_rate = self.ipca_data.iloc[self.current_step + 1].values[0]\n",
    "        real_portfolio_var_t1 = (1 + portfolio_var_t1) / (1 + inflation_rate) - 1\n",
    "\n",
    "        self.cumulative_wallet_value *= (1 + real_portfolio_var_t1)\n",
    "\n",
    "        reward = real_portfolio_var_t1\n",
    "        \n",
    "        self.current_step += 1\n",
    "        done = self.current_step >= len(self.stock_data) - 1\n",
    "\n",
    "        self.portfolio_allocation = action\n",
    "\n",
    "        return self._get_state(), reward, done\n",
    "\n",
    "    def get_cumulative_value(self):\n",
    "        return self.cumulative_wallet_value\n",
    "\n",
    "    def render(self):\n",
    "        current_prices = self.stock_data.iloc[self.current_step].values\n",
    "        portfolio_var = np.dot(self.portfolio_allocation, current_prices)\n",
    "        print(f\"Portfolio variation: {portfolio_var}\")\n",
    "        print(f\"Cumulative wallet value: {self.cumulative_wallet_value}\")\n",
    "        print(f\"Portfolio allocation: {self.portfolio_allocation}\")\n",
    "\n",
    "\n",
    "\n",
    "stock_data = \"data/clean/total-return-variation.csv\"\n",
    "ipca_data = \"data/clean/ipca.csv\"\n",
    "window_size = 30\n",
    "env = PortfolioEnv(stock_data, ipca_data, window_size)\n",
    "env.render()\n",
    "\n",
    "\n",
    "print(\"-\"*30)\n",
    "curent_state, reward, down = env.step(env.portfolio_allocation)\n",
    "print(f\"Reward: {reward}\")\n",
    "env.render()"
   ]
  },
  {
   "cell_type": "code",
   "execution_count": 1,
   "metadata": {},
   "outputs": [
    {
     "ename": "ModuleNotFoundError",
     "evalue": "No module named 'sklearn'",
     "output_type": "error",
     "traceback": [
      "\u001b[0;31m---------------------------------------------------------------------------\u001b[0m",
      "\u001b[0;31mModuleNotFoundError\u001b[0m                       Traceback (most recent call last)",
      "Cell \u001b[0;32mIn[1], line 1\u001b[0m\n\u001b[0;32m----> 1\u001b[0m \u001b[38;5;28;01mimport\u001b[39;00m \u001b[38;5;21;01msklearn\u001b[39;00m\n",
      "\u001b[0;31mModuleNotFoundError\u001b[0m: No module named 'sklearn'"
     ]
    }
   ],
   "source": []
  },
  {
   "cell_type": "code",
   "execution_count": null,
   "metadata": {},
   "outputs": [],
   "source": []
  }
 ],
 "metadata": {
  "kernelspec": {
   "display_name": "venv",
   "language": "python",
   "name": "python3"
  },
  "language_info": {
   "codemirror_mode": {
    "name": "ipython",
    "version": 3
   },
   "file_extension": ".py",
   "mimetype": "text/x-python",
   "name": "python",
   "nbconvert_exporter": "python",
   "pygments_lexer": "ipython3",
   "version": "3.10.12"
  }
 },
 "nbformat": 4,
 "nbformat_minor": 2
}
